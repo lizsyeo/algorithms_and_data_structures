{
 "cells": [
  {
   "cell_type": "markdown",
   "metadata": {},
   "source": [
    "\n",
    "-   Paraphrase the problem in your own words."
   ]
  },
  {
   "cell_type": "markdown",
   "metadata": {},
   "source": [
    "The problem is to determine if there is any duplicate value in a binary tree. If a duplicate is found, return the value of the first duplicate encountered during a breadth-first traversal (BFS). If no duplicates are found, return -1."
   ]
  },
  {
   "cell_type": "markdown",
   "metadata": {},
   "source": [
    "\n",
    "-   Create 1 new example that demonstrates you understand the problem. Trace/walkthrough 1 example that your partner made and explain it."
   ]
  },
  {
   "cell_type": "markdown",
   "metadata": {},
   "source": [
    "- New example: [8, 3, 10, 1, 6, 9, 14, 4, 7, 13]\n",
    "expected output [-1] since there is no duplicate\n",
    "\n",
    "- Walkthrough of Partner's Example 4: [4, 2, 6, 1, 3, 5, 6]\n",
    "\n",
    "Begin with the root node '4' and add it to the queue. Create an empty set to track seen values. Remove the root node '4' from the queue. Since '4' is not in the set, add it to the set. Add its children '2' and '6' to the queue. Repeat this until the last step. At the last step at node '6' on level 3, remove node '6' from the queue. This time, the set would have a '6' already in the set from level 2, indicating it is a duplicate. Therefore return '6' as the first duplicate value found during the traversal."
   ]
  },
  {
   "cell_type": "markdown",
   "metadata": {},
   "source": [
    "-   Copy the solution your partner wrote. "
   ]
  },
  {
   "cell_type": "markdown",
   "metadata": {},
   "source": [
    "from collections import deque\n",
    "from typing import Optional\n",
    "\n",
    "# Definition for a binary tree node.\n",
    "class TreeNode:\n",
    "    def __init__(self, val=0, left=None, right=None):\n",
    "        self.val = val\n",
    "        self.left = left\n",
    "        self.right = right\n",
    "\n",
    "def is_duplicate(root: Optional[TreeNode]) -> int:\n",
    "    if not root:\n",
    "        return -1\n",
    "\n",
    "    queue = deque([root])\n",
    "    seen = set()\n",
    "\n",
    "    while queue:\n",
    "        node = queue.popleft()\n",
    "        if node.val in seen:\n",
    "            return node.val\n",
    "        seen.add(node.val)\n",
    "        if node.left:\n",
    "            queue.append(node.left)\n",
    "        if node.right:\n",
    "            queue.append(node.right)\n",
    "\n",
    "    return -1"
   ]
  },
  {
   "cell_type": "markdown",
   "metadata": {},
   "source": [
    "-   Explain why their solution works in your own words."
   ]
  },
  {
   "cell_type": "markdown",
   "metadata": {},
   "source": [
    "The solution works by using a BFS approach. We visit nodes by level. We maintain a set to keep track of the values we have seen so far. As we traverse the tree, we check if a node's value is already in the set:\n",
    "\n",
    "If it is, we return that value as the duplicate.\n",
    "If it is not, we add the value to the set and continue the traversal."
   ]
  },
  {
   "cell_type": "markdown",
   "metadata": {},
   "source": [
    "\n",
    "-   Explain the problem’s time and space complexity in your own words."
   ]
  },
  {
   "cell_type": "markdown",
   "metadata": {},
   "source": [
    "Time Complexity:\n",
    "\n",
    "The time complexity is O(N), where N is the number of nodes in the tree. This is because each node is processed once.\n",
    "\n",
    "Space Complexity:\n",
    "\n",
    "The space complexity is also O(N) in the worst case scenario. This is due to the queue and the set used to track seen values. The maximum space used by the queue is proportional to the maximum width of the tree, and the set will store at most N values."
   ]
  },
  {
   "cell_type": "markdown",
   "metadata": {},
   "source": [
    "\n",
    "-   Critique your partner's solution, including explanation, and if there is anything that should be adjusted."
   ]
  },
  {
   "cell_type": "markdown",
   "metadata": {},
   "source": [
    "Overall, the solution and explanation are clear and concise. I find it easy to understand and follow throough. It uses BFS to ensure the first duplicate found is closest to the root.\n",
    "\n",
    "Improvements: It might be helpful to create a test case to demonstrate what would happen if a tree is empty. Regardless, the code handles the edge case correctly."
   ]
  },
  {
   "cell_type": "markdown",
   "metadata": {},
   "source": [
    "Reflection"
   ]
  },
  {
   "cell_type": "markdown",
   "metadata": {},
   "source": [
    "In Assignment 1, I tackled the problem of finding all the root-to-leaf problem using the depth first search (DFS) method. \n",
    "\n",
    "The bt_path function used a helper function 'dfs' to perform the DFS traversal. The helper function maintained a list path to store the current traversal path and another list paths to collect all the paths. By appending the node values to path and making copies of it when a leaf node was found, the function efficiently collected all paths. The function backtracked correctly by popping nodes off the path list as it returned from recursion.\n",
    "\n",
    "I tested the function with various test cases, including trees with different structures and sizes. These tests confirmed that the function correctly identified all root-to-leaf paths in all the scenarios tested.\n",
    "\n",
    "In the review session, I examined my partner's solution, which tackled a different binary tree problem using BFS to find duplicate values in a binary tree. By reviewing my partner's assignemnt, I got to understand a different approach in solving binary tree problem. I also got to experience looking and solving a problem with a different way of thinking.\n",
    "\n",
    "Reviewing my partner's solution was valuable as it provided a deeper understanding of how BFS and DFS can be applied in solving binary tree problems. Reviewing each other's code also enhanced our problem-solving skills and emphasized the significance of clear, efficient coding practices in a team setting.\n",
    "\n",
    "Overall, this assignment reinforced my knowledge of tree traversals, particularly DFS, and improved my ability to write and review code collaboratively."
   ]
  },
  {
   "cell_type": "markdown",
   "metadata": {},
   "source": []
  }
 ],
 "metadata": {
  "kernelspec": {
   "display_name": "dsi_participant",
   "language": "python",
   "name": "python3"
  },
  "language_info": {
   "name": "python",
   "version": "3.9.19"
  }
 },
 "nbformat": 4,
 "nbformat_minor": 2
}
